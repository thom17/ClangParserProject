{
 "cells": [
  {
   "cell_type": "code",
   "execution_count": null,
   "id": "2c061b56-af90-4450-909b-cedaef9ef014",
   "metadata": {},
   "outputs": [
    {
     "name": "stdout",
     "output_type": "stream",
     "text": [
      "libclang.dll 설정 성공\n",
      "parse D:\\dev\\AutoPlanning\\trunk\\AP_trunk_pure\\mod_APImplantSimulation\\ActuatorAxialFixture.cpp\n",
      "parse D:\\dev\\AutoPlanning\\trunk\\AP_trunk_pure\\mod_APImplantSimulation\\ActuatorAxialFixture.h\n",
      "parse D:\\dev\\AutoPlanning\\trunk\\AP_trunk_pure\\mod_APImplantSimulation\\ActuatorCrownDesign.cpp\n",
      "parse D:\\dev\\AutoPlanning\\trunk\\AP_trunk_pure\\mod_APImplantSimulation\\ActuatorCrownDesign.h\n",
      "parse D:\\dev\\AutoPlanning\\trunk\\AP_trunk_pure\\mod_APImplantSimulation\\ActuatorCSFixture.cpp\n",
      "parse D:\\dev\\AutoPlanning\\trunk\\AP_trunk_pure\\mod_APImplantSimulation\\ActuatorCSFixture.h\n",
      "parse D:\\dev\\AutoPlanning\\trunk\\AP_trunk_pure\\mod_APImplantSimulation\\ActuatorHybridFixture.cpp\n"
     ]
    }
   ],
   "source": [
    "#일단 패키지 접근\n",
    "import sys\n",
    "import time\n",
    "sys.path.append('../')\n",
    "\n",
    "#프로젝트 파싱하기\n",
    "import clangParser.clangParser as MyParser\n",
    "\n",
    "target_project_path = r\"D:\\dev\\AutoPlanning\\trunk\\AP_trunk_pure\\mod_APImplantSimulation\"\n",
    "\n",
    "start_time = time.time()\n",
    "\n",
    "tus = MyParser.parse_project(target_project_path)\n",
    "\n",
    "# Record the end time\n",
    "end_time = time.time()\n",
    "\n",
    "# Calculate the elapsed time\n",
    "elapsed_time = end_time - start_time\n",
    "print(\"Elapsed time:\", elapsed_time, \"seconds\")\n"
   ]
  },
  {
   "cell_type": "code",
   "execution_count": null,
   "id": "4088623e-1b45-47db-a0e8-42b0c338b5f6",
   "metadata": {},
   "outputs": [
    {
     "name": "stdout",
     "output_type": "stream",
     "text": [
      "[0] = D:\\dev\\AutoPlanning\\trunk\\AP_trunk_pure\\mod_APImplantSimulation\\ActuatorAxialFixture.cpp\t\t\t9643 child has\n",
      "[1] = D:\\dev\\AutoPlanning\\trunk\\AP_trunk_pure\\mod_APImplantSimulation\\ActuatorAxialFixture.h\t\t\t2820 child has\n",
      "[2] = D:\\dev\\AutoPlanning\\trunk\\AP_trunk_pure\\mod_APImplantSimulation\\ActuatorCrownDesign.cpp\t\t\t9768 child has\n",
      "[3] = D:\\dev\\AutoPlanning\\trunk\\AP_trunk_pure\\mod_APImplantSimulation\\ActuatorCrownDesign.h\t\t\t2869 child has\n",
      "[4] = D:\\dev\\AutoPlanning\\trunk\\AP_trunk_pure\\mod_APImplantSimulation\\ActuatorCSFixture.cpp\t\t\t9601 child has\n",
      "[5] = D:\\dev\\AutoPlanning\\trunk\\AP_trunk_pure\\mod_APImplantSimulation\\ActuatorCSFixture.h\t\t\t2822 child has\n",
      "[6] = D:\\dev\\AutoPlanning\\trunk\\AP_trunk_pure\\mod_APImplantSimulation\\ActuatorHybridFixture.cpp\t\t\t9779 child has\n",
      "[7] = D:\\dev\\AutoPlanning\\trunk\\AP_trunk_pure\\mod_APImplantSimulation\\ActuatorHybridFixture.h\t\t\t2860 child has\n",
      "[8] = D:\\dev\\AutoPlanning\\trunk\\AP_trunk_pure\\mod_APImplantSimulation\\ActuatorImplantPreview.cpp\t\t\t9557 child has\n",
      "[9] = D:\\dev\\AutoPlanning\\trunk\\AP_trunk_pure\\mod_APImplantSimulation\\ActuatorImplantPreview.h\t\t\t2854 child has\n",
      "[10] = D:\\dev\\AutoPlanning\\trunk\\AP_trunk_pure\\mod_APImplantSimulation\\ActuatorMPRFixrueBase.cpp\t\t\t9608 child has\n",
      "[11] = D:\\dev\\AutoPlanning\\trunk\\AP_trunk_pure\\mod_APImplantSimulation\\ActuatorMPRFixrueBase.h\t\t\t2819 child has\n",
      "[12] = D:\\dev\\AutoPlanning\\trunk\\AP_trunk_pure\\mod_APImplantSimulation\\ActuatorPanoFixture.cpp\t\t\t9601 child has\n",
      "[13] = D:\\dev\\AutoPlanning\\trunk\\AP_trunk_pure\\mod_APImplantSimulation\\ActuatorPanoFixture.h\t\t\t2910 child has\n",
      "[14] = D:\\dev\\AutoPlanning\\trunk\\AP_trunk_pure\\mod_APImplantSimulation\\ActuatorTgtFixture.cpp\t\t\t9598 child has\n",
      "[15] = D:\\dev\\AutoPlanning\\trunk\\AP_trunk_pure\\mod_APImplantSimulation\\ActuatorTgtFixture.h\t\t\t2821 child has\n",
      "[16] = D:\\dev\\AutoPlanning\\trunk\\AP_trunk_pure\\mod_APImplantSimulation\\APImplantSimulationMain.cpp\t\t\t9781 child has\n",
      "[17] = D:\\dev\\AutoPlanning\\trunk\\AP_trunk_pure\\mod_APImplantSimulation\\APImplantSimulationMain.h\t\t\t2906 child has\n",
      "[18] = D:\\dev\\AutoPlanning\\trunk\\AP_trunk_pure\\mod_APImplantSimulation\\AutoAiProcess.cpp\t\t\t9601 child has\n",
      "[19] = D:\\dev\\AutoPlanning\\trunk\\AP_trunk_pure\\mod_APImplantSimulation\\AutoAiProcess.h\t\t\t2657 child has\n",
      "[20] = D:\\dev\\AutoPlanning\\trunk\\AP_trunk_pure\\mod_APImplantSimulation\\AutoCrownImplement.cpp\t\t\t9607 child has\n",
      "[21] = D:\\dev\\AutoPlanning\\trunk\\AP_trunk_pure\\mod_APImplantSimulation\\AutoCrownImplement.h\t\t\t412 child has\n",
      "[22] = D:\\dev\\AutoPlanning\\trunk\\AP_trunk_pure\\mod_APImplantSimulation\\CCrownLibTransformSaver.cpp\t\t\t9525 child has\n",
      "[23] = D:\\dev\\AutoPlanning\\trunk\\AP_trunk_pure\\mod_APImplantSimulation\\CCrownLibTransformSaver.h\t\t\t378 child has\n",
      "[24] = D:\\dev\\AutoPlanning\\trunk\\AP_trunk_pure\\mod_APImplantSimulation\\CollisionImplant.cpp\t\t\t9612 child has\n",
      "[25] = D:\\dev\\AutoPlanning\\trunk\\AP_trunk_pure\\mod_APImplantSimulation\\CollisionImplant.h\t\t\t387 child has\n",
      "[26] = D:\\dev\\AutoPlanning\\trunk\\AP_trunk_pure\\mod_APImplantSimulation\\CommandContact.cpp\t\t\t9627 child has\n",
      "[27] = D:\\dev\\AutoPlanning\\trunk\\AP_trunk_pure\\mod_APImplantSimulation\\CommandContact.h\t\t\t3168 child has\n",
      "[28] = D:\\dev\\AutoPlanning\\trunk\\AP_trunk_pure\\mod_APImplantSimulation\\CommandCopy.cpp\t\t\t9715 child has\n",
      "[29] = D:\\dev\\AutoPlanning\\trunk\\AP_trunk_pure\\mod_APImplantSimulation\\CommandCopy.h\t\t\t3201 child has\n",
      "[30] = D:\\dev\\AutoPlanning\\trunk\\AP_trunk_pure\\mod_APImplantSimulation\\CommandCrownDesign.cpp\t\t\t9597 child has\n",
      "[31] = D:\\dev\\AutoPlanning\\trunk\\AP_trunk_pure\\mod_APImplantSimulation\\CommandCrownDesign.h\t\t\t3167 child has\n",
      "[32] = D:\\dev\\AutoPlanning\\trunk\\AP_trunk_pure\\mod_APImplantSimulation\\CommandFixtureDental.cpp\t\t\t9584 child has\n",
      "[33] = D:\\dev\\AutoPlanning\\trunk\\AP_trunk_pure\\mod_APImplantSimulation\\CommandFixtureDental.h\t\t\t2877 child has\n",
      "[34] = D:\\dev\\AutoPlanning\\trunk\\AP_trunk_pure\\mod_APImplantSimulation\\CommandFixtureMeasure.cpp\t\t\t9616 child has\n",
      "[35] = D:\\dev\\AutoPlanning\\trunk\\AP_trunk_pure\\mod_APImplantSimulation\\CommandFixtureMeasure.h\t\t\t2880 child has\n",
      "[36] = D:\\dev\\AutoPlanning\\trunk\\AP_trunk_pure\\mod_APImplantSimulation\\CommandLocateCrown.cpp\t\t\t9731 child has\n",
      "[37] = D:\\dev\\AutoPlanning\\trunk\\AP_trunk_pure\\mod_APImplantSimulation\\CommandLocateCrown.h\t\t\t3170 child has\n",
      "[38] = D:\\dev\\AutoPlanning\\trunk\\AP_trunk_pure\\mod_APImplantSimulation\\CommandMorph.cpp\t\t\t9635 child has\n",
      "[39] = D:\\dev\\AutoPlanning\\trunk\\AP_trunk_pure\\mod_APImplantSimulation\\CommandMorph.h\t\t\t3205 child has\n",
      "[40] = D:\\dev\\AutoPlanning\\trunk\\AP_trunk_pure\\mod_APImplantSimulation\\CommandSmoothing.cpp\t\t\t9617 child has\n",
      "[41] = D:\\dev\\AutoPlanning\\trunk\\AP_trunk_pure\\mod_APImplantSimulation\\CommandSmoothing.h\t\t\t3172 child has\n",
      "[42] = D:\\dev\\AutoPlanning\\trunk\\AP_trunk_pure\\mod_APImplantSimulation\\CommandWaxKnife.cpp\t\t\t9619 child has\n",
      "[43] = D:\\dev\\AutoPlanning\\trunk\\AP_trunk_pure\\mod_APImplantSimulation\\CommandWaxKnife.h\t\t\t3173 child has\n",
      "[44] = D:\\dev\\AutoPlanning\\trunk\\AP_trunk_pure\\mod_APImplantSimulation\\CrownMorphProcessor.cpp\t\t\t9580 child has\n",
      "[45] = D:\\dev\\AutoPlanning\\trunk\\AP_trunk_pure\\mod_APImplantSimulation\\CrownMorphProcessor.h\t\t\t410 child has\n",
      "[46] = D:\\dev\\AutoPlanning\\trunk\\AP_trunk_pure\\mod_APImplantSimulation\\DlgImplantPreview.cpp\t\t\t9570 child has\n",
      "[47] = D:\\dev\\AutoPlanning\\trunk\\AP_trunk_pure\\mod_APImplantSimulation\\DlgImplantPreview.h\t\t\t121 child has\n",
      "[48] = D:\\dev\\AutoPlanning\\trunk\\AP_trunk_pure\\mod_APImplantSimulation\\dllmain.cpp\t\t\t9531 child has\n",
      "[49] = D:\\dev\\AutoPlanning\\trunk\\AP_trunk_pure\\mod_APImplantSimulation\\DSIBoneDensityTable.cpp\t\t\t9536 child has\n",
      "[50] = D:\\dev\\AutoPlanning\\trunk\\AP_trunk_pure\\mod_APImplantSimulation\\DSIBoneDensityTable.h\t\t\t1813 child has\n",
      "[51] = D:\\dev\\AutoPlanning\\trunk\\AP_trunk_pure\\mod_APImplantSimulation\\DSIButtonClipPlane.cpp\t\t\t9533 child has\n",
      "[52] = D:\\dev\\AutoPlanning\\trunk\\AP_trunk_pure\\mod_APImplantSimulation\\DSIButtonClipPlane.h\t\t\t134 child has\n",
      "[53] = D:\\dev\\AutoPlanning\\trunk\\AP_trunk_pure\\mod_APImplantSimulation\\DSIButtonFixtureManual.cpp\t\t\t9541 child has\n",
      "[54] = D:\\dev\\AutoPlanning\\trunk\\AP_trunk_pure\\mod_APImplantSimulation\\DSIButtonFixtureManual.h\t\t\t135 child has\n",
      "[55] = D:\\dev\\AutoPlanning\\trunk\\AP_trunk_pure\\mod_APImplantSimulation\\DSIButtonFixtureMeasure.cpp\t\t\t9541 child has\n",
      "[56] = D:\\dev\\AutoPlanning\\trunk\\AP_trunk_pure\\mod_APImplantSimulation\\DSIButtonFixtureMeasure.h\t\t\t1818 child has\n",
      "[57] = D:\\dev\\AutoPlanning\\trunk\\AP_trunk_pure\\mod_APImplantSimulation\\DSIButtonFixtureView.cpp\t\t\t9533 child has\n",
      "[58] = D:\\dev\\AutoPlanning\\trunk\\AP_trunk_pure\\mod_APImplantSimulation\\DSIButtonFixtureView.h\t\t\t134 child has\n",
      "[59] = D:\\dev\\AutoPlanning\\trunk\\AP_trunk_pure\\mod_APImplantSimulation\\DSIFixture2D.cpp\t\t\t9573 child has\n",
      "[60] = D:\\dev\\AutoPlanning\\trunk\\AP_trunk_pure\\mod_APImplantSimulation\\DSIFixture2D.h\t\t\t1821 child has\n",
      "[61] = D:\\dev\\AutoPlanning\\trunk\\AP_trunk_pure\\mod_APImplantSimulation\\DSILibraryDrawer.cpp\t\t\t9603 child has\n",
      "[62] = D:\\dev\\AutoPlanning\\trunk\\AP_trunk_pure\\mod_APImplantSimulation\\DSILibraryDrawer.h\t\t\t2958 child has\n",
      "[63] = D:\\dev\\AutoPlanning\\trunk\\AP_trunk_pure\\mod_APImplantSimulation\\DSIPlaneFixture.cpp\t\t\t9530 child has\n",
      "[64] = D:\\dev\\AutoPlanning\\trunk\\AP_trunk_pure\\mod_APImplantSimulation\\DSIPlaneFixture.h\t\t\t1814 child has\n",
      "[65] = D:\\dev\\AutoPlanning\\trunk\\AP_trunk_pure\\mod_APImplantSimulation\\DSIShowOrgScan.cpp\t\t\t9537 child has\n",
      "[66] = D:\\dev\\AutoPlanning\\trunk\\AP_trunk_pure\\mod_APImplantSimulation\\DSIShowOrgScan.h\t\t\t1815 child has\n",
      "[67] = D:\\dev\\AutoPlanning\\trunk\\AP_trunk_pure\\mod_APImplantSimulation\\InitLog.cpp\t\t\t9533 child has\n",
      "[68] = D:\\dev\\AutoPlanning\\trunk\\AP_trunk_pure\\mod_APImplantSimulation\\InitLog.h\t\t\t1 child has\n",
      "[69] = D:\\dev\\AutoPlanning\\trunk\\AP_trunk_pure\\mod_APImplantSimulation\\interface_module.cpp\t\t\t9559 child has\n",
      "[70] = D:\\dev\\AutoPlanning\\trunk\\AP_trunk_pure\\mod_APImplantSimulation\\interface_module.h\t\t\t3032 child has\n",
      "[71] = D:\\dev\\AutoPlanning\\trunk\\AP_trunk_pure\\mod_APImplantSimulation\\MakeSafety.cpp\t\t\t9588 child has\n",
      "[72] = D:\\dev\\AutoPlanning\\trunk\\AP_trunk_pure\\mod_APImplantSimulation\\MakeSafety.h\t\t\t6 child has\n",
      "[73] = D:\\dev\\AutoPlanning\\trunk\\AP_trunk_pure\\mod_APImplantSimulation\\ManipulatorCrownDesign.cpp\t\t\t9597 child has\n",
      "[74] = D:\\dev\\AutoPlanning\\trunk\\AP_trunk_pure\\mod_APImplantSimulation\\ManipulatorCrownDesign.h\t\t\t134 child has\n",
      "[75] = D:\\dev\\AutoPlanning\\trunk\\AP_trunk_pure\\mod_APImplantSimulation\\ManipulatorCrownDesignBase.cpp\t\t\t9571 child has\n",
      "[76] = D:\\dev\\AutoPlanning\\trunk\\AP_trunk_pure\\mod_APImplantSimulation\\ManipulatorCrownDesignBase.h\t\t\t124 child has\n",
      "[77] = D:\\dev\\AutoPlanning\\trunk\\AP_trunk_pure\\mod_APImplantSimulation\\ManipulatorCrownDesignMulti.cpp\t\t\t9607 child has\n",
      "[78] = D:\\dev\\AutoPlanning\\trunk\\AP_trunk_pure\\mod_APImplantSimulation\\ManipulatorCrownDesignMulti.h\t\t\t125 child has\n",
      "[79] = D:\\dev\\AutoPlanning\\trunk\\AP_trunk_pure\\mod_APImplantSimulation\\ManipulatorFixtureCS.cpp\t\t\t9642 child has\n",
      "[80] = D:\\dev\\AutoPlanning\\trunk\\AP_trunk_pure\\mod_APImplantSimulation\\ManipulatorFixtureCS.h\t\t\t126 child has\n",
      "[81] = D:\\dev\\AutoPlanning\\trunk\\AP_trunk_pure\\mod_APImplantSimulation\\ManipulatorFixtureCSPlane.cpp\t\t\t9571 child has\n",
      "[82] = D:\\dev\\AutoPlanning\\trunk\\AP_trunk_pure\\mod_APImplantSimulation\\ManipulatorFixtureCSPlane.h\t\t\t125 child has\n",
      "[83] = D:\\dev\\AutoPlanning\\trunk\\AP_trunk_pure\\mod_APImplantSimulation\\ManipulatorFixtureHybrid.cpp\t\t\t9622 child has\n",
      "[84] = D:\\dev\\AutoPlanning\\trunk\\AP_trunk_pure\\mod_APImplantSimulation\\ManipulatorFixtureHybrid.h\t\t\t124 child has\n",
      "[85] = D:\\dev\\AutoPlanning\\trunk\\AP_trunk_pure\\mod_APImplantSimulation\\ManipulatorFixtureHybridMulti.cpp\t\t\t9617 child has\n",
      "[86] = D:\\dev\\AutoPlanning\\trunk\\AP_trunk_pure\\mod_APImplantSimulation\\ManipulatorFixtureHybridMulti.h\t\t\t124 child has\n",
      "[87] = D:\\dev\\AutoPlanning\\trunk\\AP_trunk_pure\\mod_APImplantSimulation\\ManipulatorFixtureTGT.cpp\t\t\t9634 child has\n",
      "[88] = D:\\dev\\AutoPlanning\\trunk\\AP_trunk_pure\\mod_APImplantSimulation\\ManipulatorFixtureTGT.h\t\t\t126 child has\n",
      "[89] = D:\\dev\\AutoPlanning\\trunk\\AP_trunk_pure\\mod_APImplantSimulation\\ManipulatorFixtureTGTPlane.cpp\t\t\t9570 child has\n",
      "[90] = D:\\dev\\AutoPlanning\\trunk\\AP_trunk_pure\\mod_APImplantSimulation\\ManipulatorFixtureTGTPlane.h\t\t\t125 child has\n",
      "[91] = D:\\dev\\AutoPlanning\\trunk\\AP_trunk_pure\\mod_APImplantSimulation\\ManipulatorListIS.cpp\t\t\t9585 child has\n",
      "[92] = D:\\dev\\AutoPlanning\\trunk\\AP_trunk_pure\\mod_APImplantSimulation\\ManipulatorListIS.h\t\t\t123 child has\n",
      "[93] = D:\\dev\\AutoPlanning\\trunk\\AP_trunk_pure\\mod_APImplantSimulation\\MeasureImplant.cpp\t\t\t9601 child has\n",
      "[94] = D:\\dev\\AutoPlanning\\trunk\\AP_trunk_pure\\mod_APImplantSimulation\\MeasureImplant.h\t\t\t392 child has\n",
      "[95] = D:\\dev\\AutoPlanning\\trunk\\AP_trunk_pure\\mod_APImplantSimulation\\ModuleDocAPImplantSimulation.cpp\t\t\t9588 child has\n",
      "[96] = D:\\dev\\AutoPlanning\\trunk\\AP_trunk_pure\\mod_APImplantSimulation\\ModuleDocAPImplantSimulation.h\t\t\t15 child has\n",
      "[97] = D:\\dev\\AutoPlanning\\trunk\\AP_trunk_pure\\mod_APImplantSimulation\\mod_APImplantSimulation.cpp\t\t\t9524 child has\n",
      "[98] = D:\\dev\\AutoPlanning\\trunk\\AP_trunk_pure\\mod_APImplantSimulation\\Resource.h\t\t\t0 child has\n",
      "[99] = D:\\dev\\AutoPlanning\\trunk\\AP_trunk_pure\\mod_APImplantSimulation\\stdafx.cpp\t\t\t9524 child has\n",
      "[100] = D:\\dev\\AutoPlanning\\trunk\\AP_trunk_pure\\mod_APImplantSimulation\\stdafx.h\t\t\t9524 child has\n",
      "[101] = D:\\dev\\AutoPlanning\\trunk\\AP_trunk_pure\\mod_APImplantSimulation\\targetver.h\t\t\t0 child has\n",
      "[102] = D:\\dev\\AutoPlanning\\trunk\\AP_trunk_pure\\mod_APImplantSimulation\\ToolBarCrownDesign.cpp\t\t\t9808 child has\n",
      "[103] = D:\\dev\\AutoPlanning\\trunk\\AP_trunk_pure\\mod_APImplantSimulation\\ToolBarCrownDesign.h\t\t\t7116 child has\n",
      "[104] = D:\\dev\\AutoPlanning\\trunk\\AP_trunk_pure\\mod_APImplantSimulation\\ToolBarFixture.cpp\t\t\t9838 child has\n",
      "[105] = D:\\dev\\AutoPlanning\\trunk\\AP_trunk_pure\\mod_APImplantSimulation\\ToolBarFixture.h\t\t\t7674 child has\n",
      "[106] = D:\\dev\\AutoPlanning\\trunk\\AP_trunk_pure\\mod_APImplantSimulation\\UIDlgArticulator.cpp\t\t\t9625 child has\n",
      "[107] = D:\\dev\\AutoPlanning\\trunk\\AP_trunk_pure\\mod_APImplantSimulation\\UIDlgArticulator.h\t\t\t2050 child has\n",
      "[108] = D:\\dev\\AutoPlanning\\trunk\\AP_trunk_pure\\mod_APImplantSimulation\\UIDlgArticulatorSetting.cpp\t\t\t9635 child has\n",
      "[109] = D:\\dev\\AutoPlanning\\trunk\\AP_trunk_pure\\mod_APImplantSimulation\\UIDlgArticulatorSetting.h\t\t\t6715 child has\n",
      "[110] = D:\\dev\\AutoPlanning\\trunk\\AP_trunk_pure\\mod_APImplantSimulation\\UIDlgCrownLibrary.cpp\t\t\t9611 child has\n",
      "[111] = D:\\dev\\AutoPlanning\\trunk\\AP_trunk_pure\\mod_APImplantSimulation\\UIDlgCrownLibrary.h\t\t\t2054 child has\n",
      "[112] = D:\\dev\\AutoPlanning\\trunk\\AP_trunk_pure\\mod_APImplantSimulation\\UIDlgFixtureGroup.cpp\t\t\t9700 child has\n",
      "[113] = D:\\dev\\AutoPlanning\\trunk\\AP_trunk_pure\\mod_APImplantSimulation\\UIDlgFixtureGroup.h\t\t\t2066 child has\n",
      "[114] = D:\\dev\\AutoPlanning\\trunk\\AP_trunk_pure\\mod_APImplantSimulation\\UIDlgFixtureSafetySet.cpp\t\t\t9677 child has\n",
      "[115] = D:\\dev\\AutoPlanning\\trunk\\AP_trunk_pure\\mod_APImplantSimulation\\UIDlgFixtureSafetySet.h\t\t\t2049 child has\n",
      "[116] = D:\\dev\\AutoPlanning\\trunk\\AP_trunk_pure\\mod_APImplantSimulation\\UIDlgImplantLib.cpp\t\t\t9750 child has\n",
      "[117] = D:\\dev\\AutoPlanning\\trunk\\AP_trunk_pure\\mod_APImplantSimulation\\UIDlgImplantLib.h\t\t\t6720 child has\n",
      "[118] = D:\\dev\\AutoPlanning\\trunk\\AP_trunk_pure\\mod_APImplantSimulation\\UndoRedoFixture.cpp\t\t\t9536 child has\n",
      "[119] = D:\\dev\\AutoPlanning\\trunk\\AP_trunk_pure\\mod_APImplantSimulation\\UndoRedoFixture.h\t\t\t122 child has\n",
      "[120] = D:\\dev\\AutoPlanning\\trunk\\AP_trunk_pure\\mod_APImplantSimulation\\XMLDocImplantSimulation.cpp\t\t\t9550 child has\n",
      "[121] = D:\\dev\\AutoPlanning\\trunk\\AP_trunk_pure\\mod_APImplantSimulation\\XMLDocImplantSimulation.h\t\t\t79 child has\n"
     ]
    }
   ],
   "source": [
    "#모든 파일(CompliationUnit) 순환\n",
    "i = 0\n",
    "for tunit in tus:\n",
    "    print(f\"[{i}] = {tunit.spelling}\\t\\t\\t{len(list(tunit.cursor.get_children()))} child has\")\n",
    "    i += 1\n"
   ]
  },
  {
   "cell_type": "code",
   "execution_count": null,
   "id": "5f6a904a-7c79-4b84-a02d-54c6a8c2daa7",
   "metadata": {},
   "outputs": [
    {
     "name": "stdout",
     "output_type": "stream",
     "text": [
      "D:\\dev\\AutoPlanning\\trunk\\AP_trunk_pure\\mod_APImplantSimulation\\DSILibraryDrawer.cpp\t\t\t9603 child has\n",
      "<clangParser.Cursor.Cursor object at 0x000001E6AFFCF070>\n"
     ]
    },
    {
     "ename": "AttributeError",
     "evalue": "'TranslationUnit' object has no attribute 'get_children'",
     "output_type": "error",
     "traceback": [
      "\u001b[1;31m---------------------------------------------------------------------------\u001b[0m",
      "\u001b[1;31mAttributeError\u001b[0m                            Traceback (most recent call last)",
      "Cell \u001b[1;32mIn[11], line 14\u001b[0m\n\u001b[0;32m      7\u001b[0m \u001b[38;5;28mprint\u001b[39m(target_cursor)\n\u001b[0;32m      9\u001b[0m line_map \u001b[38;5;241m=\u001b[39m target_cursor\u001b[38;5;241m.\u001b[39mget_visit_line_map()\n\u001b[1;32m---> 14\u001b[0m \u001b[38;5;28mlist\u001b[39m(\u001b[43mtarget_tunit\u001b[49m\u001b[38;5;241;43m.\u001b[39;49m\u001b[43mget_children\u001b[49m())\u001b[38;5;241m.\u001b[39m\u001b[38;5;21m__len__\u001b[39m()\n\u001b[0;32m     16\u001b[0m \u001b[38;5;66;03m# #전체 출력\u001b[39;00m\n\u001b[0;32m     17\u001b[0m \u001b[38;5;66;03m# for num in sorted(line_map):\u001b[39;00m\n\u001b[0;32m     18\u001b[0m \u001b[38;5;66;03m#     print(num, end=\" \")\u001b[39;00m\n\u001b[0;32m     19\u001b[0m \u001b[38;5;66;03m#     for c in line_map[num]:\u001b[39;00m\n\u001b[0;32m     20\u001b[0m \u001b[38;5;66;03m#         print(f\"<{c.kind} {c.spelling} {c.get_range()}>\", end=\" \")\u001b[39;00m\n\u001b[0;32m     21\u001b[0m \u001b[38;5;66;03m#     print()\u001b[39;00m\n\u001b[0;32m     23\u001b[0m \u001b[38;5;28mprint\u001b[39m(lime_map\u001b[38;5;241m.\u001b[39m\u001b[38;5;21m__len__\u001b[39m())\n",
      "\u001b[1;31mAttributeError\u001b[0m: 'TranslationUnit' object has no attribute 'get_children'"
     ]
    }
   ],
   "source": [
    "#타겟 파일 지정 및 라인별 출력\n",
    "target_tunit = tus[61]\n",
    "print(f\"{target_tunit.spelling}\\t\\t\\t{len(list(target_tunit.cursor.get_children()))} child has\")\n",
    "\n",
    "from clangParser.Cursor import Cursor\n",
    "target_cursor:Cursor  = Cursor(target_tunit.cursor)\n",
    "print(target_cursor)\n",
    "\n",
    "line_map = target_cursor.get_visit_line_map()\n",
    "\n",
    "\n",
    "\n",
    "\n",
    "\n",
    "\n",
    "# #전체 출력\n",
    "# for num in sorted(line_map):\n",
    "#     print(num, end=\" \")\n",
    "#     for c in line_map[num]:\n",
    "#         print(f\"<{c.kind} {c.spelling} {c.get_range()}>\", end=\" \")\n",
    "#     print()\n",
    "\n",
    "print(line_map.__len__())"
   ]
  },
  {
   "cell_type": "code",
   "execution_count": 14,
   "id": "b54d13fc-d075-4161-ac8a-d66898595682",
   "metadata": {},
   "outputs": [
    {
     "name": "stdout",
     "output_type": "stream",
     "text": [
      "21350\n"
     ]
    },
    {
     "data": {
      "text/plain": [
       "9603"
      ]
     },
     "execution_count": 14,
     "metadata": {},
     "output_type": "execute_result"
    }
   ],
   "source": [
    "print(line_map.__len__())\n",
    "list(target_cursor.node.get_children()).__len__()"
   ]
  },
  {
   "cell_type": "code",
   "execution_count": 4,
   "id": "cadbc2de-0386-4504-b1a2-18978e8316ff",
   "metadata": {},
   "outputs": [
    {
     "name": "stdout",
     "output_type": "stream",
     "text": [
      "D:\\dev\\AutoPlanning\\trunk\\AP_trunk_pure\\mod_APImplantSimulation\\DSILibraryDrawer.cpp\t\t\t9603 child has\n"
     ]
    },
    {
     "ename": "ValueError",
     "evalue": "too many values to unpack (expected 2)",
     "output_type": "error",
     "traceback": [
      "\u001b[1;31m---------------------------------------------------------------------------\u001b[0m",
      "\u001b[1;31mValueError\u001b[0m                                Traceback (most recent call last)",
      "Cell \u001b[1;32mIn[4], line 8\u001b[0m\n\u001b[0;32m      6\u001b[0m target_cursor:Cursor  \u001b[38;5;241m=\u001b[39m Cursor(target_tunit\u001b[38;5;241m.\u001b[39mcursor)\n\u001b[0;32m      7\u001b[0m target_stmt_map \u001b[38;5;241m=\u001b[39m target_cursor\u001b[38;5;241m.\u001b[39mget_visit_stmt_map()\n\u001b[1;32m----> 8\u001b[0m \u001b[38;5;28;01mfor\u001b[39;00m type_name , stmt_list \u001b[38;5;129;01min\u001b[39;00m target_stmt_map:\n\u001b[0;32m      9\u001b[0m     \u001b[38;5;28mprint\u001b[39m(\u001b[38;5;124mf\u001b[39m\u001b[38;5;124m\"\u001b[39m\u001b[38;5;132;01m{\u001b[39;00mtype_name\u001b[38;5;132;01m}\u001b[39;00m\u001b[38;5;124m size \u001b[39m\u001b[38;5;132;01m{\u001b[39;00mstmt_list\u001b[38;5;241m.\u001b[39m\u001b[38;5;21m__len__\u001b[39m()\u001b[38;5;132;01m}\u001b[39;00m\u001b[38;5;124m\"\u001b[39m)\n\u001b[0;32m     10\u001b[0m \u001b[38;5;28mprint\u001b[39m(target_cursor\u001b[38;5;241m.\u001b[39mget_range_code())\n",
      "\u001b[1;31mValueError\u001b[0m: too many values to unpack (expected 2)"
     ]
    }
   ],
   "source": [
    "#타겟 파일 지정 및 line_map 생성\n",
    "target_tunit = tus[61]\n",
    "print(f\"{target_tunit.spelling}\\t\\t\\t{len(list(target_tunit.cursor.get_children()))} child has\")\n",
    "\n",
    "from clangParser.Cursor import Cursor\n",
    "target_cursor:Cursor  = Cursor(target_tunit.cursor)\n",
    "target_stmt_map = target_cursor.get_visit_stmt_map()\n",
    "for type_name , stmt_list in target_stmt_map:\n",
    "    type_name = type_name\n",
    "    print(f\"{type_name} size {stmt_list.__len__()}\")\n",
    "print(target_cursor.get_range_code())"
   ]
  },
  {
   "cell_type": "code",
   "execution_count": null,
   "id": "f69a8b5d-053e-4666-b194-dd4d064ec1c6",
   "metadata": {},
   "outputs": [],
   "source": [
    "#79, column 1>\n",
    "error  <SourceLocation file 'D:\\\\dev\\\\AutoPlanning\\\\trunk\\\\AP_trunk_pure\\\\mod_APImplantSimulation/../AppCommon_AP/../AppUICore/ActuatorBase.h', line 280, column 2>\n",
    "error  <SourceLocation file 'D:\\\\dev\\\\AutoPlanning\\\\trunk\\\\AP_trunk_pure\\\\mod_APImplantSimulation/../AppCommon_AP/../AppUICore/ActuatorBase.h', line 285, column 2>\n",
    "error  <SourceLocation file 'D:\\\\dev\\\\AutoPlanning\\\\trunk\\\\AP_trunk_pure\\\\mod_APImplantSimulation/../AppCommon_AP/../AppUICore/ActuatorBase.h', line 286, column 1>\n",
    "error  <SourceLocation file 'D:\\\\dev\\\\AutoPlanning\\\\trunk\\\\AP_trunk_pure\\\\mod_APImplantSimulation/../AppCommon_AP/../AppUICore/ActuatorBase.h', line 287, column 7>"
   ]
  },
  {
   "cell_type": "code",
   "execution_count": null,
   "id": "24368cd6-ead9-40c8-9abc-8874729976a7",
   "metadata": {},
   "outputs": [],
   "source": []
  }
 ],
 "metadata": {
  "kernelspec": {
   "display_name": "T1",
   "language": "python",
   "name": "python3"
  },
  "language_info": {
   "codemirror_mode": {
    "name": "ipython",
    "version": 3
   },
   "file_extension": ".py",
   "mimetype": "text/x-python",
   "name": "python",
   "nbconvert_exporter": "python",
   "pygments_lexer": "ipython3",
   "version": "3.11.5"
  }
 },
 "nbformat": 4,
 "nbformat_minor": 5
}
